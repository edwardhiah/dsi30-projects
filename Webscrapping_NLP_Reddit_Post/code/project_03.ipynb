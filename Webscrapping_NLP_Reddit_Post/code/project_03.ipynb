{
 "cells": [
  {
   "cell_type": "markdown",
   "id": "3a5abc0f-9314-4ac5-b37f-07ff9ce08b67",
   "metadata": {},
   "source": [
    "## Problem Statement"
   ]
  },
  {
   "cell_type": "markdown",
   "id": "6e8b954d-747d-470e-b805-88376d1813eb",
   "metadata": {},
   "source": [
    "Reddit is a network of communities where users can share news content or comment on each other posting.\n",
    "As there are over 1.5 million subreddits on reddit. Given that users can post on anything on any of the subreddits, Moderator will have difficulties to visually going into all posting to ensure that postings are  relevant to the respective subreddit. \n",
    "The objective of this project is to use machine learning to create a classification model  and see how well that can it distinguish the postings and re-classify the posts to the respective subreddit or remove it.  As such I picked two closely-related subreddits for the challenge."
   ]
  },
  {
   "cell_type": "markdown",
   "id": "7cbd9c8a-1e03-46bf-a901-b948aef0d95f",
   "metadata": {},
   "source": [
    "## Data Collection"
   ]
  },
  {
   "cell_type": "code",
   "execution_count": 60,
   "id": "eab47581-ea08-4535-8e45-d4a233b12b4e",
   "metadata": {},
   "outputs": [],
   "source": [
    "import requests\n",
    "import numpy as np\n",
    "import pandas as pd\n",
    "\n",
    "import time\n",
    "import string\n",
    "import re\n",
    "\n",
    "import matplotlib.pyplot as plt\n",
    "import seaborn as sns\n",
    "from bs4 import BeautifulSoup    \n",
    "\n",
    "# Import NLTK.\n",
    "import nltk\n",
    "from nltk.stem import WordNetLemmatizer\n",
    "from nltk.corpus import stopwords # Import the stopword list\n",
    "# Import train_test_split.\n",
    "from sklearn.model_selection import train_test_split,cross_val_score, GridSearchCV\n",
    "from sklearn.feature_extraction.text import CountVectorizer, TfidfVectorizer\n",
    "from sklearn.pipeline import Pipeline\n",
    "from sklearn.linear_model import LogisticRegression\n",
    "from sklearn.naive_bayes import MultinomialNB\n",
    "from sklearn.ensemble import RandomForestClassifier\n",
    "from sklearn.inspection import permutation_importance\n",
    "\n",
    "from sklearn import metrics\n",
    "from sklearn.metrics import confusion_matrix, ConfusionMatrixDisplay,f1_score"
   ]
  },
  {
   "cell_type": "markdown",
   "id": "1f3e315f-f5cd-4f05-989b-7dcba127a00e",
   "metadata": {},
   "source": [
    "### Data Scrapping"
   ]
  },
  {
   "cell_type": "code",
   "execution_count": 2,
   "id": "483e4b5e-0ab9-4a77-8422-4ec7828b826f",
   "metadata": {},
   "outputs": [],
   "source": [
    "# #Function to scrap data from reddit \n",
    "# def pull_post(subreddit, size_of_pull):\n",
    "    \n",
    "#     posts_list = []\n",
    "#     date = None\n",
    "#     while len(posts_list) < size_of_pull:\n",
    "#         url = 'https://api.pushshift.io/reddit/search/submission'\n",
    "#         params = {\n",
    "#             'subreddit' : subreddit,\n",
    "#             'size' : 100,\n",
    "#             'before' : date,\n",
    "#         }\n",
    "#         res = requests.get(url,params)\n",
    "#         data = res.json()    \n",
    "#         posts = data['data']\n",
    "#         try:\n",
    "#             date = posts[len(posts)-1]['created_utc']\n",
    "#             posts_list.append(posts)\n",
    "#             #print(date)\n",
    "#             time.sleep(2)\n",
    "#         except:\n",
    "#             break\n",
    "\n",
    "#     new_posts_list = []\n",
    "#     for i in posts_list:\n",
    "#         new_posts_list += i\n",
    "#     subreddit_df = pd.DataFrame(new_posts_list)\n",
    "#     return subreddit_df"
   ]
  },
  {
   "cell_type": "markdown",
   "id": "c32eb68e-1602-4594-bbc7-62ceec0e2ac3",
   "metadata": {},
   "source": [
    "#### Scrapping CryptoCurrency Posts"
   ]
  },
  {
   "cell_type": "code",
   "execution_count": 3,
   "id": "8c1fe86a-9843-4f34-bfbe-42cb2ce7ee63",
   "metadata": {},
   "outputs": [
    {
     "name": "stdout",
     "output_type": "stream",
     "text": [
      "File Created!\n"
     ]
    }
   ],
   "source": [
    "# call the scrap 1.\n",
    "\n",
    "#commented the next two line becos it takes too long to scrap thus data already saved into csv prior to that\n",
    "# crypto_c = pull_post('CryptoCurrency',100)\n",
    "# crypto_c.to_csv(f'crypto_c.csv', index=False)\n",
    "print('File Created!')"
   ]
  },
  {
   "cell_type": "markdown",
   "id": "64e6e078-b9eb-4720-b9aa-bcbf64bd3ccf",
   "metadata": {},
   "source": [
    "#### Scrapping Bitcoin Posts"
   ]
  },
  {
   "cell_type": "code",
   "execution_count": 4,
   "id": "b4aeb33e-df5e-43cb-92b5-0b173c4754b9",
   "metadata": {},
   "outputs": [
    {
     "name": "stdout",
     "output_type": "stream",
     "text": [
      "File Created!\n"
     ]
    }
   ],
   "source": [
    "# call the scrap 2.\n",
    "\n",
    "#commented the next two line becos it takes too long to scrap thus data already saved into csv prior to that\n",
    "# bitcoin = pull_post('bitcoin',100)\n",
    "# bitcoin.to_csv(f'bitcoin.csv', index=False)\n",
    "print('File Created!')"
   ]
  },
  {
   "cell_type": "code",
   "execution_count": 5,
   "id": "0d684cc7-68f7-474b-a71e-9689037e10e1",
   "metadata": {},
   "outputs": [],
   "source": [
    "crypto_c = pd.read_csv('../datasets/crypto_c.csv')"
   ]
  },
  {
   "cell_type": "code",
   "execution_count": 6,
   "id": "aa21eba6-ed75-405b-bac5-ab1b5e996e1b",
   "metadata": {},
   "outputs": [],
   "source": [
    "bitcoin = pd.read_csv('../datasets/bitcoin.csv')"
   ]
  },
  {
   "cell_type": "code",
   "execution_count": 7,
   "id": "3551a514-7954-4a9a-a1ba-de93c49937ed",
   "metadata": {},
   "outputs": [
    {
     "name": "stdout",
     "output_type": "stream",
     "text": [
      "(9955, 82)\n",
      "(9998, 80)\n"
     ]
    }
   ],
   "source": [
    "#see the shape of the table\n",
    "print(crypto_c.shape)\n",
    "print(bitcoin.shape)"
   ]
  },
  {
   "cell_type": "code",
   "execution_count": 67,
   "id": "9d07affa-b9f9-43f4-89b1-0a4290ba446d",
   "metadata": {},
   "outputs": [
    {
     "data": {
      "text/html": [
       "<div>\n",
       "<style scoped>\n",
       "    .dataframe tbody tr th:only-of-type {\n",
       "        vertical-align: middle;\n",
       "    }\n",
       "\n",
       "    .dataframe tbody tr th {\n",
       "        vertical-align: top;\n",
       "    }\n",
       "\n",
       "    .dataframe thead th {\n",
       "        text-align: right;\n",
       "    }\n",
       "</style>\n",
       "<table border=\"1\" class=\"dataframe\">\n",
       "  <thead>\n",
       "    <tr style=\"text-align: right;\">\n",
       "      <th></th>\n",
       "      <th>selftext</th>\n",
       "      <th>subreddit</th>\n",
       "      <th>title</th>\n",
       "    </tr>\n",
       "  </thead>\n",
       "  <tbody>\n",
       "    <tr>\n",
       "      <th>1</th>\n",
       "      <td>Hi, I'm a young guy in his 20's and I think I ...</td>\n",
       "      <td>CryptoCurrency</td>\n",
       "      <td>ARK is having a YT livestream w/ Elon, Jack, C...</td>\n",
       "    </tr>\n",
       "    <tr>\n",
       "      <th>3</th>\n",
       "      <td>I have Coinbase but was fortunate enough to g...</td>\n",
       "      <td>CryptoCurrency</td>\n",
       "      <td>Legitmacy of Cirus Foundation</td>\n",
       "    </tr>\n",
       "  </tbody>\n",
       "</table>\n",
       "</div>"
      ],
      "text/plain": [
       "                                            selftext       subreddit  \\\n",
       "1  Hi, I'm a young guy in his 20's and I think I ...  CryptoCurrency   \n",
       "3   I have Coinbase but was fortunate enough to g...  CryptoCurrency   \n",
       "\n",
       "                                               title  \n",
       "1  ARK is having a YT livestream w/ Elon, Jack, C...  \n",
       "3                      Legitmacy of Cirus Foundation  "
      ]
     },
     "execution_count": 67,
     "metadata": {},
     "output_type": "execute_result"
    }
   ],
   "source": [
    "crypto_c.head(2)"
   ]
  },
  {
   "cell_type": "code",
   "execution_count": 68,
   "id": "f6cbc775-ce78-435a-ae32-9c257a8dc784",
   "metadata": {},
   "outputs": [
    {
     "data": {
      "text/html": [
       "<div>\n",
       "<style scoped>\n",
       "    .dataframe tbody tr th:only-of-type {\n",
       "        vertical-align: middle;\n",
       "    }\n",
       "\n",
       "    .dataframe tbody tr th {\n",
       "        vertical-align: top;\n",
       "    }\n",
       "\n",
       "    .dataframe thead th {\n",
       "        text-align: right;\n",
       "    }\n",
       "</style>\n",
       "<table border=\"1\" class=\"dataframe\">\n",
       "  <thead>\n",
       "    <tr style=\"text-align: right;\">\n",
       "      <th></th>\n",
       "      <th>selftext</th>\n",
       "      <th>subreddit</th>\n",
       "      <th>title</th>\n",
       "    </tr>\n",
       "  </thead>\n",
       "  <tbody>\n",
       "    <tr>\n",
       "      <th>4</th>\n",
       "      <td>I happen to be a crypto enthusiast and I've be...</td>\n",
       "      <td>Bitcoin</td>\n",
       "      <td>Feeling Bearish 🐻</td>\n",
       "    </tr>\n",
       "    <tr>\n",
       "      <th>6</th>\n",
       "      <td>YungSnxw’s\\nCrypto Exchange Price’s\\n\\n100$ - ...</td>\n",
       "      <td>Bitcoin</td>\n",
       "      <td>anyone able to find the exact date of the sell...</td>\n",
       "    </tr>\n",
       "  </tbody>\n",
       "</table>\n",
       "</div>"
      ],
      "text/plain": [
       "                                            selftext subreddit  \\\n",
       "4  I happen to be a crypto enthusiast and I've be...   Bitcoin   \n",
       "6  YungSnxw’s\\nCrypto Exchange Price’s\\n\\n100$ - ...   Bitcoin   \n",
       "\n",
       "                                               title  \n",
       "4                                  Feeling Bearish 🐻  \n",
       "6  anyone able to find the exact date of the sell...  "
      ]
     },
     "execution_count": 68,
     "metadata": {},
     "output_type": "execute_result"
    }
   ],
   "source": [
    "bitcoin.head(2)"
   ]
  },
  {
   "cell_type": "markdown",
   "id": "3f957c91-da0e-4572-a674-377b2f22a36c",
   "metadata": {
    "tags": []
   },
   "source": [
    "## Data Cleaning"
   ]
  },
  {
   "cell_type": "markdown",
   "id": "07f22ed2-ed5f-4cf4-b85a-924201c6c45f",
   "metadata": {},
   "source": [
    "### Cleaning the two subreddits"
   ]
  },
  {
   "cell_type": "markdown",
   "id": "0f11a831-a841-4040-bd5c-b28d4fe00be9",
   "metadata": {},
   "source": [
    "Taking only the intersted columns from the scape, clean duplicate, drop those post that was removed by moderator"
   ]
  },
  {
   "cell_type": "code",
   "execution_count": 10,
   "id": "d097f35d-0c61-4378-adc3-b64f5f54bbce",
   "metadata": {},
   "outputs": [],
   "source": [
    "#function to clean the tables\n",
    "def table_clean(table_lists):\n",
    "    for table in table_lists:\n",
    "        table.drop(table.columns.difference(['subreddit','selftext','title']),axis = 1, inplace = True)\n",
    "        # Drop duplicate rows by comparing title\n",
    "        table.drop_duplicates(subset='title', inplace=True)\n",
    "        # Drop nan\n",
    "        table.dropna(axis=0, how='any', inplace=True)\n",
    "        # Drop post that was removed by the moderator\n",
    "        table.drop(table[table.selftext == '[removed]'].index, inplace=True)\n",
    "        table.drop(table[table.selftext == '[deleted]'].index, inplace=True)\n",
    "        \n",
    "        for index, post in enumerate(table.selftext): # for each index and posts \n",
    "            post_loop = post.replace('&amp;','&') # replace the weird entity\n",
    "            post_loop = post_loop.replace('#x200B;',' ') # manually remove symbols identified\n",
    "            table.selftext[index] = post_loop\n"
   ]
  },
  {
   "cell_type": "code",
   "execution_count": 11,
   "id": "752542da-5523-4efd-bb4a-36291135ca70",
   "metadata": {
    "tags": []
   },
   "outputs": [],
   "source": [
    "tables = [crypto_c,bitcoin]\n",
    "table_clean(tables)"
   ]
  },
  {
   "cell_type": "code",
   "execution_count": 12,
   "id": "dadca41f-c13e-41b7-9bd9-ccc1fb632372",
   "metadata": {},
   "outputs": [
    {
     "name": "stdout",
     "output_type": "stream",
     "text": [
      "(1672, 3)\n",
      "(3178, 3)\n"
     ]
    }
   ],
   "source": [
    "print(crypto_c.shape)\n",
    "print(bitcoin.shape)"
   ]
  },
  {
   "cell_type": "markdown",
   "id": "373ba8ed-f5d0-4b26-96f3-6ccaaf4d79ef",
   "metadata": {},
   "source": [
    "### Combine the two tables"
   ]
  },
  {
   "cell_type": "code",
   "execution_count": 13,
   "id": "25314a84-f658-4c81-b829-19a3633b484b",
   "metadata": {},
   "outputs": [],
   "source": [
    "reddit = pd.concat([crypto_c, bitcoin], axis=0)"
   ]
  },
  {
   "cell_type": "markdown",
   "id": "d445c12e-957f-4bf0-be65-859f6d43716f",
   "metadata": {},
   "source": [
    "Reset the indexs"
   ]
  },
  {
   "cell_type": "code",
   "execution_count": 14,
   "id": "c62f26b4-4301-4049-917a-8161bb7b672a",
   "metadata": {},
   "outputs": [],
   "source": [
    "reddit.reset_index(drop = True,inplace = True)"
   ]
  },
  {
   "cell_type": "code",
   "execution_count": 15,
   "id": "6c8fa01a-640d-4708-bb6d-9c1b5ad5b60e",
   "metadata": {},
   "outputs": [],
   "source": [
    "# Coverting Subreddit into binary label\n",
    "reddit['subreddit'] = reddit['subreddit'].map({'CryptoCurrency': 0, 'Bitcoin': 1})"
   ]
  },
  {
   "cell_type": "code",
   "execution_count": 16,
   "id": "e612b26c-6876-425d-b016-20b54a0b2879",
   "metadata": {
    "tags": []
   },
   "outputs": [
    {
     "data": {
      "text/html": [
       "<div>\n",
       "<style scoped>\n",
       "    .dataframe tbody tr th:only-of-type {\n",
       "        vertical-align: middle;\n",
       "    }\n",
       "\n",
       "    .dataframe tbody tr th {\n",
       "        vertical-align: top;\n",
       "    }\n",
       "\n",
       "    .dataframe thead th {\n",
       "        text-align: right;\n",
       "    }\n",
       "</style>\n",
       "<table border=\"1\" class=\"dataframe\">\n",
       "  <thead>\n",
       "    <tr style=\"text-align: right;\">\n",
       "      <th></th>\n",
       "      <th>selftext</th>\n",
       "      <th>subreddit</th>\n",
       "      <th>title</th>\n",
       "    </tr>\n",
       "  </thead>\n",
       "  <tbody>\n",
       "    <tr>\n",
       "      <th>0</th>\n",
       "      <td>Hi, I'm a young guy in his 20's and I think I ...</td>\n",
       "      <td>0</td>\n",
       "      <td>ARK is having a YT livestream w/ Elon, Jack, C...</td>\n",
       "    </tr>\n",
       "    <tr>\n",
       "      <th>1</th>\n",
       "      <td>I have Coinbase but was fortunate enough to g...</td>\n",
       "      <td>0</td>\n",
       "      <td>Legitmacy of Cirus Foundation</td>\n",
       "    </tr>\n",
       "    <tr>\n",
       "      <th>2</th>\n",
       "      <td>my friend owes me money and has money in cryp...</td>\n",
       "      <td>0</td>\n",
       "      <td>Is it possible?</td>\n",
       "    </tr>\n",
       "    <tr>\n",
       "      <th>3</th>\n",
       "      <td>\\nAre you bullish or bearish in the coming wee...</td>\n",
       "      <td>0</td>\n",
       "      <td>Best places to purchase BTC in the USA</td>\n",
       "    </tr>\n",
       "    <tr>\n",
       "      <th>4</th>\n",
       "      <td>**Welcome to the Daily General Discussion thre...</td>\n",
       "      <td>0</td>\n",
       "      <td>If I don’t buy Bitgert/BRISE tonight or tomorr...</td>\n",
       "    </tr>\n",
       "    <tr>\n",
       "      <th>...</th>\n",
       "      <td>...</td>\n",
       "      <td>...</td>\n",
       "      <td>...</td>\n",
       "    </tr>\n",
       "    <tr>\n",
       "      <th>4842</th>\n",
       "      <td>Is it important to diversify outside of crypto...</td>\n",
       "      <td>1</td>\n",
       "      <td>Contingency investments if btc fails</td>\n",
       "    </tr>\n",
       "    <tr>\n",
       "      <th>4843</th>\n",
       "      <td>Wallet 967: \\n\\nToday, I stumbled upon a walle...</td>\n",
       "      <td>1</td>\n",
       "      <td>967 - Bitcoin Wallet</td>\n",
       "    </tr>\n",
       "    <tr>\n",
       "      <th>4844</th>\n",
       "      <td>Hello, a little bit none crypto question, but ...</td>\n",
       "      <td>1</td>\n",
       "      <td>Relation Between CPI (inflation) and PPI...?</td>\n",
       "    </tr>\n",
       "    <tr>\n",
       "      <th>4845</th>\n",
       "      <td>Some people are saying bitcoin is a store of e...</td>\n",
       "      <td>1</td>\n",
       "      <td>Bitcoin as energy</td>\n",
       "    </tr>\n",
       "    <tr>\n",
       "      <th>4846</th>\n",
       "      <td>Besides the usual borrowing and lending, are p...</td>\n",
       "      <td>1</td>\n",
       "      <td>Worries you should have with interest on bitcoin</td>\n",
       "    </tr>\n",
       "  </tbody>\n",
       "</table>\n",
       "<p>4847 rows × 3 columns</p>\n",
       "</div>"
      ],
      "text/plain": [
       "                                               selftext  subreddit  \\\n",
       "0     Hi, I'm a young guy in his 20's and I think I ...          0   \n",
       "1      I have Coinbase but was fortunate enough to g...          0   \n",
       "2      my friend owes me money and has money in cryp...          0   \n",
       "3     \\nAre you bullish or bearish in the coming wee...          0   \n",
       "4     **Welcome to the Daily General Discussion thre...          0   \n",
       "...                                                 ...        ...   \n",
       "4842  Is it important to diversify outside of crypto...          1   \n",
       "4843  Wallet 967: \\n\\nToday, I stumbled upon a walle...          1   \n",
       "4844  Hello, a little bit none crypto question, but ...          1   \n",
       "4845  Some people are saying bitcoin is a store of e...          1   \n",
       "4846  Besides the usual borrowing and lending, are p...          1   \n",
       "\n",
       "                                                  title  \n",
       "0     ARK is having a YT livestream w/ Elon, Jack, C...  \n",
       "1                         Legitmacy of Cirus Foundation  \n",
       "2                                       Is it possible?  \n",
       "3                Best places to purchase BTC in the USA  \n",
       "4     If I don’t buy Bitgert/BRISE tonight or tomorr...  \n",
       "...                                                 ...  \n",
       "4842               Contingency investments if btc fails  \n",
       "4843                               967 - Bitcoin Wallet  \n",
       "4844       Relation Between CPI (inflation) and PPI...?  \n",
       "4845                                  Bitcoin as energy  \n",
       "4846   Worries you should have with interest on bitcoin  \n",
       "\n",
       "[4847 rows x 3 columns]"
      ]
     },
     "execution_count": 16,
     "metadata": {},
     "output_type": "execute_result"
    }
   ],
   "source": [
    "reddit.head(-3)"
   ]
  },
  {
   "cell_type": "markdown",
   "id": "6e95fb44-0e85-4104-a8b3-64eec00ffa58",
   "metadata": {},
   "source": [
    "### Cleaning the Post Texts"
   ]
  },
  {
   "cell_type": "code",
   "execution_count": 17,
   "id": "73419ac2-b6c4-4ddc-bcd1-f65570845d9f",
   "metadata": {
    "tags": []
   },
   "outputs": [],
   "source": [
    "#function to clean the selftext\n",
    "def post_to_words(raw_post):\n",
    "    # Function to convert a raw review to a string of words\n",
    "       \n",
    "    # 1. Remove HTML.\n",
    "    post_text = BeautifulSoup(raw_post).get_text()\n",
    "    \n",
    "    # 2. Remove http\n",
    "    post_text = re.sub(r'https?:\\/\\/(www\\.)?[-a-zA-Z0-9@:%._\\+~#=]{1,256}\\.[a-zA-Z0-9()]{1,6}\\b([-a-zA-Z0-9()@:%_\\+.~#?&//=]*)', '', post_text)\n",
    "\n",
    "    # 3. Remove non-letters.\n",
    "    letters_only = re.sub(\"[^a-zA-Z]\", \" \", post_text)\n",
    "    \n",
    "    # 4. Convert to lower case, split into individual words.\n",
    "    words = letters_only.lower().split()\n",
    "    \n",
    "    # 5. Remove punctuation and split 's, 't, 've with a space for filter\n",
    "    post_text = re.sub(r'[' + string.punctuation.replace('@', '') + ']+', ' ', post_text)\n",
    "    \n",
    "    # 6. Remove whitespace (including new line characters)\n",
    "    post_text = re.sub(r'\\s\\s+', ' ', post_text)\n",
    "    \n",
    "    # 7. In Python, searching a set is much faster than searching\n",
    "    # a list, so convert the stopwords to a set.\n",
    "    stops = set(stopwords.words('english'))\n",
    "\n",
    "    \n",
    "    # 8. Remove stopwords.\n",
    "    meaningful_words = [w for w in words if not w in stops]\n",
    "    \n",
    "    # 9. Join the words back into one string separated by space, \n",
    "    # and return the result.\n",
    "    return(\" \".join(meaningful_words))"
   ]
  },
  {
   "cell_type": "code",
   "execution_count": 18,
   "id": "5358540b-2bce-420d-844b-f64d9e0a6857",
   "metadata": {
    "tags": []
   },
   "outputs": [
    {
     "name": "stderr",
     "output_type": "stream",
     "text": [
      "C:\\Users\\CAdministrator\\anaconda3\\lib\\site-packages\\bs4\\__init__.py:431: MarkupResemblesLocatorWarning: \"https://youtu.be/ygQ_YcF8Ww0\" looks like a URL. Beautiful Soup is not an HTTP client. You should probably use an HTTP client like requests to get the document behind the URL, and feed that document to Beautiful Soup.\n",
      "  warnings.warn(\n",
      "C:\\Users\\CAdministrator\\anaconda3\\lib\\site-packages\\bs4\\__init__.py:431: MarkupResemblesLocatorWarning: \"https://thenewscrypto.com/vladimir-putin-approves-bill-restricting-digital-financial-assets/\" looks like a URL. Beautiful Soup is not an HTTP client. You should probably use an HTTP client like requests to get the document behind the URL, and feed that document to Beautiful Soup.\n",
      "  warnings.warn(\n",
      "C:\\Users\\CAdministrator\\anaconda3\\lib\\site-packages\\bs4\\__init__.py:431: MarkupResemblesLocatorWarning: \"https://youtu.be/jsf0yYCMuRY\" looks like a URL. Beautiful Soup is not an HTTP client. You should probably use an HTTP client like requests to get the document behind the URL, and feed that document to Beautiful Soup.\n",
      "  warnings.warn(\n",
      "C:\\Users\\CAdministrator\\anaconda3\\lib\\site-packages\\bs4\\__init__.py:431: MarkupResemblesLocatorWarning: \"https://preview.redd.it/t3siwb974i591.png?width=1354&format=png&auto=webp&s=6484044a7611e168c48345239c1d7cdb42e5fdb3\" looks like a URL. Beautiful Soup is not an HTTP client. You should probably use an HTTP client like requests to get the document behind the URL, and feed that document to Beautiful Soup.\n",
      "  warnings.warn(\n",
      "C:\\Users\\CAdministrator\\anaconda3\\lib\\site-packages\\bs4\\__init__.py:431: MarkupResemblesLocatorWarning: \"https://www.prodeum.io\" looks like a URL. Beautiful Soup is not an HTTP client. You should probably use an HTTP client like requests to get the document behind the URL, and feed that document to Beautiful Soup.\n",
      "  warnings.warn(\n",
      "C:\\Users\\CAdministrator\\anaconda3\\lib\\site-packages\\bs4\\__init__.py:431: MarkupResemblesLocatorWarning: \"https://www.reddit.com/r/Bitcoin/comments/ualve0/should_i_put_my_20_000_in_bitcoin/i5ylh4k/?utm_source=share&amp;utm_medium=ios_app&amp;utm_name=iossmf&amp;context=3\" looks like a URL. Beautiful Soup is not an HTTP client. You should probably use an HTTP client like requests to get the document behind the URL, and feed that document to Beautiful Soup.\n",
      "  warnings.warn(\n",
      "C:\\Users\\CAdministrator\\anaconda3\\lib\\site-packages\\bs4\\__init__.py:431: MarkupResemblesLocatorWarning: \"https://reddit.com/r/Shalom_4_traffic/?utm_medium=android_app&amp;utm_source=share\" looks like a URL. Beautiful Soup is not an HTTP client. You should probably use an HTTP client like requests to get the document behind the URL, and feed that document to Beautiful Soup.\n",
      "  warnings.warn(\n",
      "C:\\Users\\CAdministrator\\anaconda3\\lib\\site-packages\\bs4\\__init__.py:431: MarkupResemblesLocatorWarning: \"https://youtube.com/shorts/9RvNNJMpb7Q?feature=share\" looks like a URL. Beautiful Soup is not an HTTP client. You should probably use an HTTP client like requests to get the document behind the URL, and feed that document to Beautiful Soup.\n",
      "  warnings.warn(\n",
      "C:\\Users\\CAdministrator\\anaconda3\\lib\\site-packages\\bs4\\__init__.py:431: MarkupResemblesLocatorWarning: \"https://twitter.com/dergigi/status/1538191819409870851?s=20&amp;t=jZ4waiUCDkRMKt8uTCWw5Q\" looks like a URL. Beautiful Soup is not an HTTP client. You should probably use an HTTP client like requests to get the document behind the URL, and feed that document to Beautiful Soup.\n",
      "  warnings.warn(\n",
      "C:\\Users\\CAdministrator\\anaconda3\\lib\\site-packages\\bs4\\__init__.py:431: MarkupResemblesLocatorWarning: \"https://en.m.wikipedia.org/wiki/Greater_fool_theory\" looks like a URL. Beautiful Soup is not an HTTP client. You should probably use an HTTP client like requests to get the document behind the URL, and feed that document to Beautiful Soup.\n",
      "  warnings.warn(\n",
      "C:\\Users\\CAdministrator\\anaconda3\\lib\\site-packages\\bs4\\__init__.py:431: MarkupResemblesLocatorWarning: \"https://preview.redd.it/t3siwb974i591.png?width=1354&amp;format=png&amp;auto=webp&amp;s=6484044a7611e168c48345239c1d7cdb42e5fdb3\" looks like a URL. Beautiful Soup is not an HTTP client. You should probably use an HTTP client like requests to get the document behind the URL, and feed that document to Beautiful Soup.\n",
      "  warnings.warn(\n",
      "C:\\Users\\CAdministrator\\anaconda3\\lib\\site-packages\\bs4\\__init__.py:431: MarkupResemblesLocatorWarning: \"https://youtu.be/EA7wWKmeDGc\" looks like a URL. Beautiful Soup is not an HTTP client. You should probably use an HTTP client like requests to get the document behind the URL, and feed that document to Beautiful Soup.\n",
      "  warnings.warn(\n",
      "C:\\Users\\CAdministrator\\anaconda3\\lib\\site-packages\\bs4\\__init__.py:431: MarkupResemblesLocatorWarning: \"https://www.twitlonger.com/show/n_1ss24a6\" looks like a URL. Beautiful Soup is not an HTTP client. You should probably use an HTTP client like requests to get the document behind the URL, and feed that document to Beautiful Soup.\n",
      "  warnings.warn(\n"
     ]
    }
   ],
   "source": [
    "reddit['selftext'] = reddit['selftext'].apply(post_to_words)"
   ]
  },
  {
   "cell_type": "markdown",
   "id": "cc6c0d1a-bc2e-4c41-a75b-46b12ddb5500",
   "metadata": {
    "tags": []
   },
   "source": [
    "## Pre-Processing"
   ]
  },
  {
   "cell_type": "markdown",
   "id": "2bc6727a-81f9-4e4f-b2c2-757fa6f0b1fc",
   "metadata": {},
   "source": [
    "### Lemmatize"
   ]
  },
  {
   "cell_type": "code",
   "execution_count": 19,
   "id": "0003ed5f-8c87-4c96-ba1a-738f75a611ca",
   "metadata": {},
   "outputs": [],
   "source": [
    "#combine similar forms of the same word\n",
    "lemmatizer = WordNetLemmatizer()\n",
    "\n",
    "def lemmatize_words(post_text):\n",
    "    words = post_text.split()\n",
    "    lemma_words = ''\n",
    "    for word in words:\n",
    "        lemma_words += (lemmatizer.lemmatize(word) + ' ')\n",
    "    return lemma_words    "
   ]
  },
  {
   "cell_type": "code",
   "execution_count": 20,
   "id": "76df984d-5cab-4144-aac0-881b886b13a7",
   "metadata": {},
   "outputs": [],
   "source": [
    "reddit['selftext'] = reddit['selftext'].apply(lemmatize_words)"
   ]
  },
  {
   "cell_type": "code",
   "execution_count": 21,
   "id": "1816ae2b-fe55-4e88-93a3-786ba3d65c60",
   "metadata": {},
   "outputs": [
    {
     "data": {
      "text/plain": [
       "selftext     0\n",
       "subreddit    0\n",
       "title        0\n",
       "dtype: int64"
      ]
     },
     "execution_count": 21,
     "metadata": {},
     "output_type": "execute_result"
    }
   ],
   "source": [
    "reddit.isnull().sum()"
   ]
  },
  {
   "cell_type": "markdown",
   "id": "c469d829-a441-4f65-94d2-00ed5b39ebb5",
   "metadata": {},
   "source": [
    "### Tokenize"
   ]
  },
  {
   "cell_type": "markdown",
   "id": "6b89e1ed-e9a8-4b77-8b64-2cd74b7e6611",
   "metadata": {
    "tags": []
   },
   "source": [
    "#### CountVectorizer"
   ]
  },
  {
   "cell_type": "code",
   "execution_count": 22,
   "id": "1b9fd468-5c33-4b6b-bdf3-15b81f33d0dd",
   "metadata": {},
   "outputs": [
    {
     "data": {
      "image/png": "[encoded data removed]",
      "text/plain": [
       "<Figure size 720x288 with 2 Axes>"
      ]
     },
     "metadata": {
      "needs_background": "light"
     },
     "output_type": "display_data"
    }
   ],
   "source": [
    "# To get the top 35 words from the entire df\n",
    "# Bitcoin\n",
    "cvec = CountVectorizer(stop_words = 'english', \n",
    "                       max_features = 35) \n",
    "\n",
    "# input for CountVectorizer is an array of strings\n",
    "vector_text_bitcoin = reddit[reddit['subreddit'] == 1]['selftext']\n",
    "\n",
    "# fit_transform the vectorizer\n",
    "# convert training data to dataframe\n",
    "bitcoin_words_df = pd.DataFrame(cvec.fit_transform\n",
    "                               (vector_text_bitcoin).todense(), \n",
    "                               columns=cvec.get_feature_names())\n",
    "\n",
    "# CryptoCurrency\n",
    "# input for CountVectorizer is an array of strings\n",
    "vector_text_cryptoc = reddit[reddit['subreddit'] == 0]['selftext']\n",
    "\n",
    "# fit_transform the vectorizer\n",
    "# convert training data to dataframe\n",
    "cryptoc_words_df = pd.DataFrame(cvec.fit_transform\n",
    "                               (vector_text_cryptoc).todense(), \n",
    "                               columns=cvec.get_feature_names())\n",
    "\n",
    "\n",
    "#plot histograms \n",
    "fig = plt.figure(figsize=(10,4))\n",
    "\n",
    "fig1 = fig.add_subplot(1,2,1);\n",
    "sns.barplot(y= bitcoin_words_df.sum\n",
    "               ().sort_values(ascending=False\n",
    "                             ).head(15).index,\n",
    "            x= bitcoin_words_df.sum\n",
    "               ().sort_values(ascending=False\n",
    "                             ).head(15).values,\n",
    "            color='tab:blue')\n",
    "\n",
    "fig2 = fig.add_subplot(1,2,2);\n",
    "sns.barplot(y= cryptoc_words_df.sum\n",
    "               ().sort_values(ascending=False\n",
    "                             ).head(15).index,\n",
    "            x= cryptoc_words_df.sum\n",
    "               ().sort_values(ascending=False\n",
    "                             ).head(15).values,\n",
    "            color='tab:blue')\n",
    "\n",
    "fig1.set_title('Top 15 bitcoin post using countvector')\n",
    "fig2.set_title('Top 15 cryptocurrency post using countvector')\n",
    "\n",
    "plt.tight_layout(); plt.show()"
   ]
  },
  {
   "cell_type": "markdown",
   "id": "0dd47dfa-a59f-4977-a3ba-7243744360ce",
   "metadata": {},
   "source": [
    "#### Tf-idf Vectorizer"
   ]
  },
  {
   "cell_type": "code",
   "execution_count": 23,
   "id": "6500b171-1752-48b8-aea9-698ba62b6234",
   "metadata": {},
   "outputs": [
    {
     "data": {
      "image/png": "[encoded data removed]",
      "text/plain": [
       "<Figure size 720x288 with 2 Axes>"
      ]
     },
     "metadata": {
      "needs_background": "light"
     },
     "output_type": "display_data"
    }
   ],
   "source": [
    "# Instantiate and fit the transformer.\n",
    "# Bitcoin\n",
    "tvec = TfidfVectorizer(analyzer = \"word\",\n",
    "                       stop_words = \"english\",\n",
    "                      )\n",
    "\n",
    "# convert training data to dataframe\n",
    "bitcoin_words_df = pd.DataFrame(tvec.fit_transform\n",
    "                               (vector_text_bitcoin).todense(), \n",
    "                               columns=tvec.get_feature_names())\n",
    "# CryptoCurrency\n",
    "# convert training data to dataframe\n",
    "cryptoc_words_df = pd.DataFrame(tvec.fit_transform\n",
    "                               (vector_text_cryptoc).todense(), \n",
    "                               columns=tvec.get_feature_names())\n",
    "\n",
    "#plot histograms \n",
    "fig = plt.figure(figsize=(10,4))\n",
    "\n",
    "fig1 = fig.add_subplot(1,2,1);\n",
    "sns.barplot(y= bitcoin_words_df.sum\n",
    "               ().sort_values(ascending=False\n",
    "                             ).head(15).index,\n",
    "            x= bitcoin_words_df.sum\n",
    "               ().sort_values(ascending=False\n",
    "                             ).head(15).values,\n",
    "            color='tab:blue')\n",
    "\n",
    "fig2 = fig.add_subplot(1,2,2);\n",
    "sns.barplot(y= cryptoc_words_df.sum\n",
    "               ().sort_values(ascending=False\n",
    "                             ).head(15).index,\n",
    "            x= cryptoc_words_df.sum\n",
    "               ().sort_values(ascending=False\n",
    "                             ).head(15).values,\n",
    "            color='tab:blue')\n",
    "\n",
    "fig1.set_title('Top 15 bitcoin post using TF-IDF')\n",
    "fig2.set_title('Top 15 cryptocurrency post using TF-IDF')\n",
    "\n",
    "plt.tight_layout(); plt.show()"
   ]
  },
  {
   "cell_type": "code",
   "execution_count": 24,
   "id": "e56da85a-80c8-49ad-a4d0-a38f76732d45",
   "metadata": {},
   "outputs": [
    {
     "name": "stdout",
     "output_type": "stream",
     "text": [
      "Top 50 words in bitcoin subreddit using TF-IDF\n"
     ]
    },
    {
     "data": {
      "text/plain": [
       "bitcoin        165.859232\n",
       "btc             98.422736\n",
       "buy             68.973972\n",
       "wallet          65.152706\n",
       "crypto          59.165210\n",
       "like            58.596560\n",
       "time            58.148432\n",
       "price           55.785110\n",
       "know            54.208292\n",
       "people          54.063464\n",
       "money           50.193269\n",
       "think           47.495111\n",
       "year            44.222310\n",
       "want            43.306934\n",
       "market          42.986999\n",
       "use             39.145696\n",
       "exchange        38.685410\n",
       "going           36.968885\n",
       "coin            36.502409\n",
       "way             35.311639\n",
       "good            35.278838\n",
       "make            33.893257\n",
       "new             33.619257\n",
       "say             31.881908\n",
       "need            30.667058\n",
       "day             30.451061\n",
       "buying          30.238178\n",
       "guy             29.822203\n",
       "help            28.946329\n",
       "value           28.874955\n",
       "transaction     28.563708\n",
       "address         27.811482\n",
       "question        27.765212\n",
       "right           27.609390\n",
       "thing           26.931836\n",
       "thanks          26.761523\n",
       "bought          26.617597\n",
       "really          26.277157\n",
       "thought         26.013190\n",
       "let             25.953656\n",
       "post            25.927298\n",
       "sell            25.749255\n",
       "coinbase        25.146531\n",
       "looking         24.999627\n",
       "bank            24.819670\n",
       "account         24.159602\n",
       "world           24.035804\n",
       "long            23.255252\n",
       "fiat            23.244478\n",
       "month           23.103102\n",
       "dtype: float64"
      ]
     },
     "execution_count": 24,
     "metadata": {},
     "output_type": "execute_result"
    }
   ],
   "source": [
    "print('Top 50 words in bitcoin subreddit using TF-IDF')\n",
    "bitcoin_words_df.sum().sort_values(ascending=False).head(50)"
   ]
  },
  {
   "cell_type": "code",
   "execution_count": 25,
   "id": "2107c987-d7ea-4e19-9024-d4868088b0f1",
   "metadata": {},
   "outputs": [
    {
     "name": "stdout",
     "output_type": "stream",
     "text": [
      "Top 50 words in cryptocurrency subreddit using TF-IDF\n"
     ]
    },
    {
     "data": {
      "text/plain": [
       "crypto            64.407921\n",
       "like              40.837995\n",
       "coin              40.316732\n",
       "market            39.922029\n",
       "wallet            39.909142\n",
       "people            36.349347\n",
       "time              34.065179\n",
       "bitcoin           33.197782\n",
       "know              33.067937\n",
       "exchange          32.740427\n",
       "money             32.672768\n",
       "price             29.065036\n",
       "project           26.932700\n",
       "token             26.710027\n",
       "btc               26.565059\n",
       "coinbase          25.967908\n",
       "year              25.549510\n",
       "use               24.425169\n",
       "make              23.976021\n",
       "think             23.722924\n",
       "want              23.207859\n",
       "eth               23.081629\n",
       "buy               22.532093\n",
       "new               22.159883\n",
       "need              21.404735\n",
       "account           21.178516\n",
       "asset             21.086745\n",
       "good              20.997647\n",
       "day               20.804304\n",
       "way               20.558225\n",
       "going             19.902165\n",
       "fee               19.252009\n",
       "really            19.044522\n",
       "thing             18.904545\n",
       "month             18.711275\n",
       "right             18.574584\n",
       "transaction       18.264510\n",
       "cryptocurrency    18.175573\n",
       "lot               18.065340\n",
       "fund              17.891983\n",
       "blockchain        17.811307\n",
       "celsius           17.346642\n",
       "bank              17.229351\n",
       "got               16.751663\n",
       "help              16.707116\n",
       "looking           16.664984\n",
       "bear              16.440983\n",
       "say               16.311618\n",
       "post              16.251552\n",
       "work              16.136551\n",
       "dtype: float64"
      ]
     },
     "execution_count": 25,
     "metadata": {},
     "output_type": "execute_result"
    }
   ],
   "source": [
    "print('Top 50 words in cryptocurrency subreddit using TF-IDF')\n",
    "cryptoc_words_df.sum().sort_values(ascending=False).head(50)"
   ]
  },
  {
   "cell_type": "markdown",
   "id": "5aa55da1-7470-4845-ad61-3e9797762c60",
   "metadata": {},
   "source": [
    "## Modeling"
   ]
  },
  {
   "cell_type": "markdown",
   "id": "0e662305-c89e-4b5e-b587-cf9e87c797e4",
   "metadata": {},
   "source": [
    "### Train Test Split"
   ]
  },
  {
   "cell_type": "code",
   "execution_count": 26,
   "id": "a4912508-4a64-4a99-974e-f643951e44dc",
   "metadata": {},
   "outputs": [],
   "source": [
    "# Create train_test_split.\n",
    "X_train, X_test, y_train, y_test = train_test_split(reddit['selftext'],\n",
    "                                                    reddit['subreddit'],\n",
    "                                                    test_size = 0.30,\n",
    "                                                    stratify=reddit['subreddit'],\n",
    "                                                    random_state = 42)"
   ]
  },
  {
   "cell_type": "markdown",
   "id": "8422804c-ee9d-43f6-bf56-0ff1e56aae15",
   "metadata": {},
   "source": [
    " ### Baseline Accuracy"
   ]
  },
  {
   "cell_type": "code",
   "execution_count": 27,
   "id": "c70cfdf1-51b9-4618-979b-89236b715fe7",
   "metadata": {},
   "outputs": [
    {
     "data": {
      "text/plain": [
       "1    0.654983\n",
       "0    0.345017\n",
       "Name: subreddit, dtype: float64"
      ]
     },
     "execution_count": 27,
     "metadata": {},
     "output_type": "execute_result"
    }
   ],
   "source": [
    "# the null model (predicting the majority class)\n",
    "y_test.value_counts(normalize=True)"
   ]
  },
  {
   "cell_type": "markdown",
   "id": "ff7baf05-f163-4542-b2dc-e821a7869156",
   "metadata": {},
   "source": [
    "Importing more stop Word Listing"
   ]
  },
  {
   "cell_type": "code",
   "execution_count": 28,
   "id": "e03baced-c9d2-4792-b0a6-dadf16f04a45",
   "metadata": {},
   "outputs": [],
   "source": [
    "#install spaCy, an open-source software library for advanced NLP\n",
    "#!conda install -c conda-forge spacy\n",
    "#!python -m spacy download en_core_web_sm"
   ]
  },
  {
   "cell_type": "code",
   "execution_count": 69,
   "id": "93d370fc-a9d9-4ccc-924b-86cd5bfa075d",
   "metadata": {},
   "outputs": [],
   "source": [
    "#more stop words\n",
    "import spacy\n",
    "#loading the english language small model of spacy\n",
    "en = spacy.load('en_core_web_sm')\n",
    "sw_spacy = en.Defaults.stop_words\n",
    "sw_spacy = sw_spacy.union(['ll', 've','bitcoin','crypto','btc'])\n",
    "stp_wrds = ['bitcoin','crypto','btc']"
   ]
  },
  {
   "cell_type": "markdown",
   "id": "19ea186e-168f-46ac-9c3e-e0e62ae0b5b7",
   "metadata": {},
   "source": [
    "### Naive Bayes Multinomial Model"
   ]
  },
  {
   "cell_type": "markdown",
   "id": "cb2a7a22-e450-4db0-8df6-f8e1dd7c74d3",
   "metadata": {},
   "source": [
    "####  Naive Bayes Multinomial + CountVectorizer"
   ]
  },
  {
   "cell_type": "code",
   "execution_count": 70,
   "id": "fb510629-e6a9-4701-a55d-60934f23764d",
   "metadata": {},
   "outputs": [
    {
     "name": "stdout",
     "output_type": "stream",
     "text": [
      "Best params: {'cvec__max_df': 0.8, 'cvec__max_features': 2000, 'cvec__min_df': 2, 'cvec__ngram_range': (1, 1), 'nb__alpha': 100}\n",
      "Number of features: 2000\n",
      "Train score : 0.8392,  Best score: 0.7994, Test score: 0.8021\n"
     ]
    }
   ],
   "source": [
    "# Naive Bayes Model 1\n",
    "nb = MultinomialNB()\n",
    "cvec = CountVectorizer(stop_words = stp_wrds)\n",
    "\n",
    "#Setting up the pipeline\n",
    "pipe = Pipeline([\n",
    "    ('cvec',cvec),\n",
    "    ('nb', nb)\n",
    "])\n",
    "#hyperparameters:\n",
    "params = {\n",
    "    'cvec__max_features': [1_000,2_000],\n",
    "    'cvec__min_df': [2, 3],\n",
    "    'cvec__max_df': [.8,.9, .95],\n",
    "    'cvec__ngram_range': [(1,1), (1,2)],\n",
    "    'nb__alpha': [1, 10, 100], \n",
    "}\n",
    "gs1 = GridSearchCV(pipe, \n",
    "                  param_grid=params, \n",
    "                  cv=5)\n",
    "# Fit GridSearch to training data.\n",
    "gs1.fit(X_train, y_train)\n",
    "\n",
    "print(\"Best params: {}\".format(gs1.best_params_))\n",
    "print('Number of features: {}'.format(len(gs1.best_estimator_.named_steps.cvec.get_feature_names())))\n",
    "print('Train score : {},  Best score: {}, Test score: {}'.format(round(gs1.score(X_train,y_train),4),\n",
    "                                                                 round(gs1.best_score_, 4),\n",
    "                                                                 round(gs1.best_estimator_.score(X_test, y_test), 4)))\n"
   ]
  },
  {
   "cell_type": "code",
   "execution_count": 71,
   "id": "3e3ac49c-c587-4346-b5ba-7abafa3640a8",
   "metadata": {},
   "outputs": [],
   "source": [
    "# Get predictions\n",
    "preds1 = gs1.predict(X_test)\n",
    "\n",
    "# Save confusion matrix values\n",
    "tn, fp, fn, tp = confusion_matrix(y_test, preds1).ravel()\n",
    "cm1 = confusion_matrix(y_test, preds1)"
   ]
  },
  {
   "cell_type": "markdown",
   "id": "1b51b4e7-8707-4ad7-8e87-29db8da2da48",
   "metadata": {},
   "source": [
    "##### The Confusion Matrix Plot"
   ]
  },
  {
   "cell_type": "code",
   "execution_count": 72,
   "id": "c4a0c648-cddd-4733-8a58-4fb6901505cc",
   "metadata": {},
   "outputs": [
    {
     "data": {
      "image/png": "[encoded data removed]",
      "text/plain": [
       "<Figure size 432x288 with 2 Axes>"
      ]
     },
     "metadata": {
      "needs_background": "light"
     },
     "output_type": "display_data"
    }
   ],
   "source": [
    "# View confusion matrix\n",
    "disp = ConfusionMatrixDisplay(cm1)\n",
    "disp.plot();"
   ]
  },
  {
   "cell_type": "code",
   "execution_count": 73,
   "id": "eafb5611-aed6-4f8d-a9e1-154e38670cb9",
   "metadata": {},
   "outputs": [
    {
     "name": "stdout",
     "output_type": "stream",
     "text": [
      "True Negatives: 412\n",
      "False Positives: 90\n",
      "False Negatives: 198\n",
      "True Positives: 755\n"
     ]
    }
   ],
   "source": [
    "print(\"True Negatives: %s\" % tn)\n",
    "print(\"False Positives: %s\" % fp)\n",
    "print(\"False Negatives: %s\" % fn)\n",
    "print(\"True Positives: %s\" % tp)"
   ]
  },
  {
   "cell_type": "code",
   "execution_count": 74,
   "id": "d61b342d-4df8-466f-bdf7-2a3b90bbe71a",
   "metadata": {},
   "outputs": [
    {
     "name": "stdout",
     "output_type": "stream",
     "text": [
      "Accuracy: 0.8021\n",
      "Misclassification rate: 0.1979\n",
      "Precision: 0.8935\n",
      "Recall: 0.7922\n",
      "Specificity: 0.8207\n",
      "f1 score: 0.8398\n"
     ]
    }
   ],
   "source": [
    "# Examine some classification metrics \n",
    "tn, fp, fn, tp = confusion_matrix(y_test, preds1).ravel()\n",
    "print('Accuracy: {}'.format(round((tp+tn)/(tp+fp+tn+fn),4)))\n",
    "print('Misclassification rate: {}'.format(round((fp+fn)/(tp+fp+tn+fn),4)))\n",
    "print('Precision: {}'.format(round(tp/(tp+fp),4)))\n",
    "print('Recall: {}'.format(round(tp/(tp+fn),4)))\n",
    "print('Specificity: {}'.format(round(tn/(tn+fp),4)))\n",
    "print('f1 score: {}' . format(round(f1_score(y_test, preds1),4)))"
   ]
  },
  {
   "cell_type": "markdown",
   "id": "6f2bf0f7-1570-42bd-b7e0-c490c29c3764",
   "metadata": {},
   "source": [
    "#### Naive Bayes Multinomial + TF-IDF"
   ]
  },
  {
   "cell_type": "code",
   "execution_count": 75,
   "id": "5cf24e6b-66e3-4104-b992-04117c14d4c1",
   "metadata": {},
   "outputs": [
    {
     "name": "stdout",
     "output_type": "stream",
     "text": [
      "Best params: {'nb__alpha': 0.1, 'tvec__max_df': 0.9, 'tvec__max_features': 2000, 'tvec__min_df': 2, 'tvec__ngram_range': (1, 2)}\n",
      "Number of features: 2000\n",
      "Train score : 0.866,  Best score: 0.8121, Test score: 0.8103\n"
     ]
    }
   ],
   "source": [
    "# Naive Bayes Model 2\n",
    "nb = MultinomialNB()\n",
    "tvec = TfidfVectorizer(stop_words = sw_spacy)\n",
    "\n",
    "#Setting up the pipeline\n",
    "pipe = Pipeline([\n",
    "    ('tvec', tvec),\n",
    "    ('nb', nb)\n",
    "])\n",
    "#hyperparameters:\n",
    "params = {\n",
    "    'tvec__max_features': [ 1_000, 2_000],\n",
    "    'tvec__min_df': [2, 3],\n",
    "    'tvec__max_df': [.9, .95],\n",
    "    'tvec__ngram_range': [(1,2),(1,3)],\n",
    "    'nb__alpha': [0.1, 0.2], \n",
    "}\n",
    "gs2 = GridSearchCV(pipe, \n",
    "                  param_grid=params, \n",
    "                  cv=5)\n",
    "# Fit GridSearch to training data.\n",
    "gs2.fit(X_train, y_train)\n",
    "print(\"Best params: {}\".format(gs2.best_params_))\n",
    "print('Number of features: {}'.format(len(gs2.best_estimator_.named_steps.tvec.get_feature_names())))\n",
    "print('Train score : {},  Best score: {}, Test score: {}'.format(round(gs2.score(X_train,y_train),4),\n",
    "                                                                 round(gs2.best_score_, 4),\n",
    "                                                                 round(gs2.best_estimator_.score(X_test, y_test), 4)))\n"
   ]
  },
  {
   "cell_type": "code",
   "execution_count": 76,
   "id": "cbd74266-3d1a-4f51-b3b0-a176fe3fe0ad",
   "metadata": {},
   "outputs": [],
   "source": [
    "# Get predictions\n",
    "preds2 = gs2.predict(X_test)\n",
    "\n",
    "# Save confusion matrix values\n",
    "tn, fp, fn, tp = confusion_matrix(y_test, preds2).ravel()\n",
    "cm2 = confusion_matrix(y_test, preds2)"
   ]
  },
  {
   "cell_type": "markdown",
   "id": "a6d28a01-c76f-4f9e-8a89-ff100c9e3382",
   "metadata": {},
   "source": [
    "##### The Confusion Matrix Plot"
   ]
  },
  {
   "cell_type": "code",
   "execution_count": 77,
   "id": "1aca6a7b-2499-4dd6-837f-d5ef9277e54b",
   "metadata": {},
   "outputs": [
    {
     "data": {
      "image/png": "[encoded data removed]",
      "text/plain": [
       "<Figure size 432x288 with 2 Axes>"
      ]
     },
     "metadata": {
      "needs_background": "light"
     },
     "output_type": "display_data"
    }
   ],
   "source": [
    "# View confusion matrix\n",
    "disp = ConfusionMatrixDisplay(cm2)\n",
    "disp.plot();"
   ]
  },
  {
   "cell_type": "code",
   "execution_count": 78,
   "id": "3027e3fc-ed8a-41f4-ad5c-5047e23f07c7",
   "metadata": {},
   "outputs": [
    {
     "name": "stdout",
     "output_type": "stream",
     "text": [
      "True Negatives: 295\n",
      "False Positives: 207\n",
      "False Negatives: 69\n",
      "True Positives: 884\n"
     ]
    }
   ],
   "source": [
    "print(\"True Negatives: %s\" % tn)\n",
    "print(\"False Positives: %s\" % fp)\n",
    "print(\"False Negatives: %s\" % fn)\n",
    "print(\"True Positives: %s\" % tp)"
   ]
  },
  {
   "cell_type": "code",
   "execution_count": 79,
   "id": "5023a886-c22a-4e32-9f47-3dd7287b796e",
   "metadata": {},
   "outputs": [
    {
     "name": "stdout",
     "output_type": "stream",
     "text": [
      "Accuracy: 0.8103\n",
      "Misclassification rate: 0.1897\n",
      "Precision: 0.8103\n",
      "Recall: 0.9276\n",
      "Specificity: 0.5876\n",
      "f1 score: 0.865\n"
     ]
    }
   ],
   "source": [
    "# Examine some classification metrics \n",
    "tn, fp, fn, tp = confusion_matrix(y_test, preds2).ravel()\n",
    "print('Accuracy: {}'.format(round((tp+tn)/(tp+fp+tn+fn),4)))\n",
    "print('Misclassification rate: {}'.format(round((fp+fn)/(tp+fp+tn+fn),4)))\n",
    "print('Precision: {}'.format(round(tp/(tp+fp),4)))\n",
    "print('Recall: {}'.format(round(tp/(tp+fn),4)))\n",
    "print('Specificity: {}'.format(round(tn/(tn+fp),4)))\n",
    "print('f1 score: {}' . format(round(f1_score(y_test, preds2),4)))"
   ]
  },
  {
   "cell_type": "markdown",
   "id": "4b13587c-6dd9-42bf-9d31-6cdc30601175",
   "metadata": {},
   "source": [
    "### Logistic Regression Model"
   ]
  },
  {
   "cell_type": "markdown",
   "id": "12ddfc1f-414c-458a-ae03-9f6894881f2b",
   "metadata": {},
   "source": [
    "#### Logistic Regression + TF-IDF"
   ]
  },
  {
   "cell_type": "code",
   "execution_count": 80,
   "id": "d6ee31cb-5808-4c8e-9862-e9aa2ee70edc",
   "metadata": {},
   "outputs": [
    {
     "name": "stdout",
     "output_type": "stream",
     "text": [
      "Best params: {'lr__C': 10, 'tvec__max_df': 0.9, 'tvec__max_features': 2000, 'tvec__min_df': 2, 'tvec__ngram_range': (1, 2)}\n",
      "Number of features: 2000\n",
      "Train score : 0.9708,  Best score: 0.8571, Test score: 0.8467\n"
     ]
    }
   ],
   "source": [
    "lr = LogisticRegression(max_iter=2000)\n",
    "tvec =  TfidfVectorizer(stop_words = sw_spacy)\n",
    "\n",
    "pipe = Pipeline([\n",
    "    ('tvec', tvec),\n",
    "    ('lr', lr)\n",
    "])\n",
    "#hyperparameters:\n",
    "params = {\n",
    "    'tvec__max_features': [ 2_000, 3_000, 4_000],\n",
    "    'tvec__min_df': [1, 2],\n",
    "    'tvec__max_df': [.9, .95],\n",
    "    'tvec__ngram_range': [(1,1),(1,2)],\n",
    "    'lr__C' : [1,10,100]\n",
    "}\n",
    "gs5 = GridSearchCV(pipe, \n",
    "                  param_grid=params, \n",
    "                  cv=5)\n",
    "# Fit GridSearch to training data.\n",
    "gs5.fit(X_train, y_train)\n",
    "print(\"Best params: {}\".format(gs5.best_params_))\n",
    "print('Number of features: {}'.format(len(gs5.best_estimator_.named_steps.tvec.get_feature_names())))\n",
    "print('Train score : {},  Best score: {}, Test score: {}'.format(round(gs5.score(X_train,y_train),4),\n",
    "                                                                 round(gs5.best_score_, 4),\n",
    "                                                                 round(gs5.best_estimator_.score(X_test, y_test), 4)))\n"
   ]
  },
  {
   "cell_type": "markdown",
   "id": "141028c2-e873-4d9b-93ba-e9e42b2fe058",
   "metadata": {},
   "source": [
    "##### Features Coefficient"
   ]
  },
  {
   "cell_type": "code",
   "execution_count": 81,
   "id": "a3e18a29-7efb-4ccf-af25-4126b344ee6e",
   "metadata": {},
   "outputs": [
    {
     "data": {
      "text/html": [
       "<div>\n",
       "<style scoped>\n",
       "    .dataframe tbody tr th:only-of-type {\n",
       "        vertical-align: middle;\n",
       "    }\n",
       "\n",
       "    .dataframe tbody tr th {\n",
       "        vertical-align: top;\n",
       "    }\n",
       "\n",
       "    .dataframe thead th {\n",
       "        text-align: right;\n",
       "    }\n",
       "</style>\n",
       "<table border=\"1\" class=\"dataframe\">\n",
       "  <thead>\n",
       "    <tr style=\"text-align: right;\">\n",
       "      <th></th>\n",
       "      <th>coef_</th>\n",
       "      <th>abs_coef</th>\n",
       "    </tr>\n",
       "  </thead>\n",
       "  <tbody>\n",
       "    <tr>\n",
       "      <th>bitcoins</th>\n",
       "      <td>4.351584</td>\n",
       "      <td>77.601258</td>\n",
       "    </tr>\n",
       "    <tr>\n",
       "      <th>stacking</th>\n",
       "      <td>3.316360</td>\n",
       "      <td>27.559839</td>\n",
       "    </tr>\n",
       "    <tr>\n",
       "      <th>lightning</th>\n",
       "      <td>3.265969</td>\n",
       "      <td>26.205480</td>\n",
       "    </tr>\n",
       "    <tr>\n",
       "      <th>sat</th>\n",
       "      <td>3.163057</td>\n",
       "      <td>23.642756</td>\n",
       "    </tr>\n",
       "    <tr>\n",
       "      <th>thank</th>\n",
       "      <td>3.098838</td>\n",
       "      <td>22.172174</td>\n",
       "    </tr>\n",
       "    <tr>\n",
       "      <th>bitcoiners</th>\n",
       "      <td>2.868879</td>\n",
       "      <td>17.617261</td>\n",
       "    </tr>\n",
       "    <tr>\n",
       "      <th>buy</th>\n",
       "      <td>2.799385</td>\n",
       "      <td>16.434542</td>\n",
       "    </tr>\n",
       "    <tr>\n",
       "      <th>earning</th>\n",
       "      <td>2.794342</td>\n",
       "      <td>16.351858</td>\n",
       "    </tr>\n",
       "    <tr>\n",
       "      <th>panic</th>\n",
       "      <td>2.728826</td>\n",
       "      <td>15.314899</td>\n",
       "    </tr>\n",
       "    <tr>\n",
       "      <th>self</th>\n",
       "      <td>2.711645</td>\n",
       "      <td>15.054012</td>\n",
       "    </tr>\n",
       "    <tr>\n",
       "      <th>custody</th>\n",
       "      <td>2.573194</td>\n",
       "      <td>13.107630</td>\n",
       "    </tr>\n",
       "    <tr>\n",
       "      <th>monetary</th>\n",
       "      <td>2.561035</td>\n",
       "      <td>12.949217</td>\n",
       "    </tr>\n",
       "    <tr>\n",
       "      <th>mining</th>\n",
       "      <td>2.542045</td>\n",
       "      <td>12.705628</td>\n",
       "    </tr>\n",
       "    <tr>\n",
       "      <th>valuable</th>\n",
       "      <td>2.538676</td>\n",
       "      <td>12.662894</td>\n",
       "    </tr>\n",
       "    <tr>\n",
       "      <th>strike</th>\n",
       "      <td>2.513863</td>\n",
       "      <td>12.352558</td>\n",
       "    </tr>\n",
       "    <tr>\n",
       "      <th>node</th>\n",
       "      <td>2.491138</td>\n",
       "      <td>12.075013</td>\n",
       "    </tr>\n",
       "    <tr>\n",
       "      <th>worried</th>\n",
       "      <td>2.458150</td>\n",
       "      <td>11.683179</td>\n",
       "    </tr>\n",
       "    <tr>\n",
       "      <th>debt</th>\n",
       "      <td>2.441680</td>\n",
       "      <td>11.492332</td>\n",
       "    </tr>\n",
       "    <tr>\n",
       "      <th>fiat</th>\n",
       "      <td>2.424887</td>\n",
       "      <td>11.300955</td>\n",
       "    </tr>\n",
       "    <tr>\n",
       "      <th>talking</th>\n",
       "      <td>2.413312</td>\n",
       "      <td>11.170895</td>\n",
       "    </tr>\n",
       "    <tr>\n",
       "      <th>referral</th>\n",
       "      <td>2.390513</td>\n",
       "      <td>10.919093</td>\n",
       "    </tr>\n",
       "    <tr>\n",
       "      <th>position</th>\n",
       "      <td>2.216534</td>\n",
       "      <td>9.175473</td>\n",
       "    </tr>\n",
       "    <tr>\n",
       "      <th>rent</th>\n",
       "      <td>2.144261</td>\n",
       "      <td>8.535729</td>\n",
       "    </tr>\n",
       "    <tr>\n",
       "      <th>buying</th>\n",
       "      <td>2.108022</td>\n",
       "      <td>8.231943</td>\n",
       "    </tr>\n",
       "    <tr>\n",
       "      <th>input</th>\n",
       "      <td>2.101868</td>\n",
       "      <td>8.181438</td>\n",
       "    </tr>\n",
       "    <tr>\n",
       "      <th>answer</th>\n",
       "      <td>2.016505</td>\n",
       "      <td>7.512026</td>\n",
       "    </tr>\n",
       "    <tr>\n",
       "      <th>central</th>\n",
       "      <td>2.016128</td>\n",
       "      <td>7.509194</td>\n",
       "    </tr>\n",
       "    <tr>\n",
       "      <th>necessary</th>\n",
       "      <td>2.014652</td>\n",
       "      <td>7.498114</td>\n",
       "    </tr>\n",
       "    <tr>\n",
       "      <th>willing</th>\n",
       "      <td>1.957777</td>\n",
       "      <td>7.083564</td>\n",
       "    </tr>\n",
       "    <tr>\n",
       "      <th>interest</th>\n",
       "      <td>1.944676</td>\n",
       "      <td>6.991365</td>\n",
       "    </tr>\n",
       "  </tbody>\n",
       "</table>\n",
       "</div>"
      ],
      "text/plain": [
       "               coef_   abs_coef\n",
       "bitcoins    4.351584  77.601258\n",
       "stacking    3.316360  27.559839\n",
       "lightning   3.265969  26.205480\n",
       "sat         3.163057  23.642756\n",
       "thank       3.098838  22.172174\n",
       "bitcoiners  2.868879  17.617261\n",
       "buy         2.799385  16.434542\n",
       "earning     2.794342  16.351858\n",
       "panic       2.728826  15.314899\n",
       "self        2.711645  15.054012\n",
       "custody     2.573194  13.107630\n",
       "monetary    2.561035  12.949217\n",
       "mining      2.542045  12.705628\n",
       "valuable    2.538676  12.662894\n",
       "strike      2.513863  12.352558\n",
       "node        2.491138  12.075013\n",
       "worried     2.458150  11.683179\n",
       "debt        2.441680  11.492332\n",
       "fiat        2.424887  11.300955\n",
       "talking     2.413312  11.170895\n",
       "referral    2.390513  10.919093\n",
       "position    2.216534   9.175473\n",
       "rent        2.144261   8.535729\n",
       "buying      2.108022   8.231943\n",
       "input       2.101868   8.181438\n",
       "answer      2.016505   7.512026\n",
       "central     2.016128   7.509194\n",
       "necessary   2.014652   7.498114\n",
       "willing     1.957777   7.083564\n",
       "interest    1.944676   6.991365"
      ]
     },
     "execution_count": 81,
     "metadata": {},
     "output_type": "execute_result"
    }
   ],
   "source": [
    "lr = LogisticRegression(max_iter=2000,\n",
    "                        C = 10,\n",
    "                       )\n",
    "cvec =  TfidfVectorizer(stop_words= sw_spacy,\n",
    "                       max_df = 0.9,\n",
    "                       max_features = 3000,\n",
    "                       min_df = 1,\n",
    "                       ngram_range = (1,2))\n",
    "pipe = Pipeline([\n",
    "    ('tvec', tvec),\n",
    "    ('lr', lr)\n",
    "]) \n",
    "\n",
    "pipe.fit(X_train, y_train);\n",
    "lr_feat2 = pd.DataFrame(data=lr.coef_.T, index=tvec.get_feature_names())\n",
    "lr_feat2.columns = ['coef_']\n",
    "lr_feat2['abs_coef'] = np.exp(lr_feat2['coef_'])\n",
    "lr_feat2.sort_values(by='abs_coef', ascending=False).head(30)"
   ]
  },
  {
   "cell_type": "code",
   "execution_count": 82,
   "id": "27487f35-e792-4955-95a5-422d777b8358",
   "metadata": {},
   "outputs": [],
   "source": [
    "# Get predictions\n",
    "preds5 = gs5.predict(X_test)\n",
    "\n",
    "# Save confusion matrix values\n",
    "tn, fp, fn, tp = confusion_matrix(y_test, preds5).ravel()\n",
    "cm5 = confusion_matrix(y_test, preds5)"
   ]
  },
  {
   "cell_type": "markdown",
   "id": "ca7dabf8-a8b0-4bed-8cd1-c1ffacb15e4c",
   "metadata": {
    "toc-hr-collapsed": true
   },
   "source": [
    "##### The Confusion Matrix Plot"
   ]
  },
  {
   "cell_type": "code",
   "execution_count": 83,
   "id": "1234d074-7a9b-43e6-ad4e-0285921ac255",
   "metadata": {},
   "outputs": [
    {
     "data": {
      "image/png": "[encoded data removed]",
      "text/plain": [
       "<Figure size 432x288 with 2 Axes>"
      ]
     },
     "metadata": {
      "needs_background": "light"
     },
     "output_type": "display_data"
    }
   ],
   "source": [
    "# View confusion matrix\n",
    "disp = ConfusionMatrixDisplay(cm5)\n",
    "disp.plot();"
   ]
  },
  {
   "cell_type": "code",
   "execution_count": 84,
   "id": "518d82b2-78e3-4139-88fb-ea2573bfdabe",
   "metadata": {},
   "outputs": [
    {
     "name": "stdout",
     "output_type": "stream",
     "text": [
      "True Negatives: 359\n",
      "False Positives: 143\n",
      "False Negatives: 80\n",
      "True Positives: 873\n"
     ]
    }
   ],
   "source": [
    "print(\"True Negatives: %s\" % tn)\n",
    "print(\"False Positives: %s\" % fp)\n",
    "print(\"False Negatives: %s\" % fn)\n",
    "print(\"True Positives: %s\" % tp)"
   ]
  },
  {
   "cell_type": "code",
   "execution_count": 85,
   "id": "0431ef8f-cb13-4cbe-8adc-bbd88bf15f2f",
   "metadata": {},
   "outputs": [
    {
     "name": "stdout",
     "output_type": "stream",
     "text": [
      "Accuracy: 0.8467\n",
      "Misclassification rate: 0.1533\n",
      "Precision: 0.8593\n",
      "Recall: 0.9161\n",
      "Specificity: 0.7151\n",
      "f1 score: 0.8867\n"
     ]
    }
   ],
   "source": [
    "# Examine some classification metrics \n",
    "tn, fp, fn, tp = confusion_matrix(y_test, preds5).ravel()\n",
    "print('Accuracy: {}'.format(round((tp+tn)/(tp+fp+tn+fn),4)))\n",
    "print('Misclassification rate: {}'.format(round((fp+fn)/(tp+fp+tn+fn),4)))\n",
    "print('Precision: {}'.format(round(tp/(tp+fp),4)))\n",
    "print('Recall: {}'.format(round(tp/(tp+fn),4)))\n",
    "print('Specificity: {}'.format(round(tn/(tn+fp),4)))\n",
    "print('f1 score: {}' . format(round(f1_score(y_test, preds5),4)))"
   ]
  },
  {
   "cell_type": "markdown",
   "id": "72d72caf-06e0-4f09-81ee-a550a846576c",
   "metadata": {},
   "source": [
    "#### Logistic Regression + CountVectorizer"
   ]
  },
  {
   "cell_type": "code",
   "execution_count": 86,
   "id": "0056262f-e72d-43bb-b7d0-d92a8555d835",
   "metadata": {},
   "outputs": [
    {
     "name": "stdout",
     "output_type": "stream",
     "text": [
      "Best params: {'cvec__max_df': 0.9, 'cvec__max_features': 3000, 'cvec__min_df': 2, 'cvec__ngram_range': (1, 2), 'lr__C': 1.0}\n",
      "Train score : 0.9971,Best score: 0.863,Test score: 0.844\n",
      "Number of features: 3000\n"
     ]
    }
   ],
   "source": [
    "lr = LogisticRegression(max_iter=2000)\n",
    "cvec =  CountVectorizer(stop_words= sw_spacy)\n",
    "\n",
    "pipe = Pipeline([\n",
    "    ('cvec', cvec),\n",
    "    ('lr', lr)\n",
    "])\n",
    "#hyperparameters:\n",
    "params = {\n",
    "    'cvec__max_features': [1_000, 2_000, 3_000],\n",
    "    'cvec__min_df': [2, 3],\n",
    "    'cvec__max_df': [.9, .95],\n",
    "    'cvec__ngram_range': [(1,1), (1,2)],\n",
    "    'lr__C' : [0.1,1.0,10],\n",
    "}\n",
    "gs = GridSearchCV(pipe, \n",
    "                  param_grid=params, \n",
    "                  cv=5)\n",
    "# Fit GridSearch to training data.\n",
    "gs.fit(X_train, y_train)\n",
    "print(\"Best params: {}\".format(gs.best_params_))\n",
    "print('Train score : {},Best score: {},Test score: {}'.format(round(gs.score(X_train,y_train),4),\n",
    "                                                              round(gs.best_score_, 4),\n",
    "                                                              round(gs.best_estimator_.score(X_test, y_test), 4)))\n",
    "print('Number of features: {}'.format(len(gs.best_estimator_.named_steps.cvec.get_feature_names())))"
   ]
  },
  {
   "cell_type": "markdown",
   "id": "ac610076-103c-48ca-a27d-aba1e4382891",
   "metadata": {},
   "source": [
    "##### Features Coefficient"
   ]
  },
  {
   "cell_type": "code",
   "execution_count": 87,
   "id": "e4b63b34-bffb-4ce3-b9e3-c2ee47c13d6f",
   "metadata": {},
   "outputs": [
    {
     "data": {
      "text/html": [
       "<div>\n",
       "<style scoped>\n",
       "    .dataframe tbody tr th:only-of-type {\n",
       "        vertical-align: middle;\n",
       "    }\n",
       "\n",
       "    .dataframe tbody tr th {\n",
       "        vertical-align: top;\n",
       "    }\n",
       "\n",
       "    .dataframe thead th {\n",
       "        text-align: right;\n",
       "    }\n",
       "</style>\n",
       "<table border=\"1\" class=\"dataframe\">\n",
       "  <thead>\n",
       "    <tr style=\"text-align: right;\">\n",
       "      <th></th>\n",
       "      <th>coef_</th>\n",
       "      <th>abs_coef</th>\n",
       "    </tr>\n",
       "  </thead>\n",
       "  <tbody>\n",
       "    <tr>\n",
       "      <th>valuable</th>\n",
       "      <td>1.133496</td>\n",
       "      <td>3.106498</td>\n",
       "    </tr>\n",
       "    <tr>\n",
       "      <th>panic</th>\n",
       "      <td>1.035556</td>\n",
       "      <td>2.816672</td>\n",
       "    </tr>\n",
       "    <tr>\n",
       "      <th>bitcoiners</th>\n",
       "      <td>0.982250</td>\n",
       "      <td>2.670459</td>\n",
       "    </tr>\n",
       "    <tr>\n",
       "      <th>bitcoins</th>\n",
       "      <td>0.971190</td>\n",
       "      <td>2.641086</td>\n",
       "    </tr>\n",
       "    <tr>\n",
       "      <th>monetary</th>\n",
       "      <td>0.939852</td>\n",
       "      <td>2.559602</td>\n",
       "    </tr>\n",
       "    <tr>\n",
       "      <th>worried</th>\n",
       "      <td>0.933420</td>\n",
       "      <td>2.543192</td>\n",
       "    </tr>\n",
       "    <tr>\n",
       "      <th>standard</th>\n",
       "      <td>0.926676</td>\n",
       "      <td>2.526098</td>\n",
       "    </tr>\n",
       "    <tr>\n",
       "      <th>response</th>\n",
       "      <td>0.911055</td>\n",
       "      <td>2.486945</td>\n",
       "    </tr>\n",
       "    <tr>\n",
       "      <th>node</th>\n",
       "      <td>0.907059</td>\n",
       "      <td>2.477027</td>\n",
       "    </tr>\n",
       "    <tr>\n",
       "      <th>altcoins</th>\n",
       "      <td>0.902695</td>\n",
       "      <td>2.466242</td>\n",
       "    </tr>\n",
       "    <tr>\n",
       "      <th>self</th>\n",
       "      <td>0.895287</td>\n",
       "      <td>2.448038</td>\n",
       "    </tr>\n",
       "    <tr>\n",
       "      <th>lightning</th>\n",
       "      <td>0.886807</td>\n",
       "      <td>2.427367</td>\n",
       "    </tr>\n",
       "    <tr>\n",
       "      <th>risky</th>\n",
       "      <td>0.876594</td>\n",
       "      <td>2.402701</td>\n",
       "    </tr>\n",
       "    <tr>\n",
       "      <th>movement</th>\n",
       "      <td>0.863568</td>\n",
       "      <td>2.371607</td>\n",
       "    </tr>\n",
       "    <tr>\n",
       "      <th>rent</th>\n",
       "      <td>0.862823</td>\n",
       "      <td>2.369842</td>\n",
       "    </tr>\n",
       "    <tr>\n",
       "      <th>ok</th>\n",
       "      <td>0.855957</td>\n",
       "      <td>2.353626</td>\n",
       "    </tr>\n",
       "    <tr>\n",
       "      <th>position</th>\n",
       "      <td>0.830634</td>\n",
       "      <td>2.294773</td>\n",
       "    </tr>\n",
       "    <tr>\n",
       "      <th>custody</th>\n",
       "      <td>0.820261</td>\n",
       "      <td>2.271094</td>\n",
       "    </tr>\n",
       "    <tr>\n",
       "      <th>reach</th>\n",
       "      <td>0.813812</td>\n",
       "      <td>2.256493</td>\n",
       "    </tr>\n",
       "    <tr>\n",
       "      <th>creator</th>\n",
       "      <td>0.799976</td>\n",
       "      <td>2.225488</td>\n",
       "    </tr>\n",
       "    <tr>\n",
       "      <th>bank account</th>\n",
       "      <td>0.790765</td>\n",
       "      <td>2.205084</td>\n",
       "    </tr>\n",
       "    <tr>\n",
       "      <th>stacking</th>\n",
       "      <td>0.782372</td>\n",
       "      <td>2.186653</td>\n",
       "    </tr>\n",
       "    <tr>\n",
       "      <th>operator</th>\n",
       "      <td>0.778981</td>\n",
       "      <td>2.179251</td>\n",
       "    </tr>\n",
       "    <tr>\n",
       "      <th>interest</th>\n",
       "      <td>0.778827</td>\n",
       "      <td>2.178914</td>\n",
       "    </tr>\n",
       "    <tr>\n",
       "      <th>access</th>\n",
       "      <td>0.778042</td>\n",
       "      <td>2.177206</td>\n",
       "    </tr>\n",
       "    <tr>\n",
       "      <th>application</th>\n",
       "      <td>0.767499</td>\n",
       "      <td>2.154372</td>\n",
       "    </tr>\n",
       "    <tr>\n",
       "      <th>strike</th>\n",
       "      <td>0.766538</td>\n",
       "      <td>2.152302</td>\n",
       "    </tr>\n",
       "    <tr>\n",
       "      <th>self custody</th>\n",
       "      <td>0.765285</td>\n",
       "      <td>2.149608</td>\n",
       "    </tr>\n",
       "    <tr>\n",
       "      <th>awesome</th>\n",
       "      <td>0.765095</td>\n",
       "      <td>2.149198</td>\n",
       "    </tr>\n",
       "    <tr>\n",
       "      <th>thank</th>\n",
       "      <td>0.764410</td>\n",
       "      <td>2.147727</td>\n",
       "    </tr>\n",
       "  </tbody>\n",
       "</table>\n",
       "</div>"
      ],
      "text/plain": [
       "                 coef_  abs_coef\n",
       "valuable      1.133496  3.106498\n",
       "panic         1.035556  2.816672\n",
       "bitcoiners    0.982250  2.670459\n",
       "bitcoins      0.971190  2.641086\n",
       "monetary      0.939852  2.559602\n",
       "worried       0.933420  2.543192\n",
       "standard      0.926676  2.526098\n",
       "response      0.911055  2.486945\n",
       "node          0.907059  2.477027\n",
       "altcoins      0.902695  2.466242\n",
       "self          0.895287  2.448038\n",
       "lightning     0.886807  2.427367\n",
       "risky         0.876594  2.402701\n",
       "movement      0.863568  2.371607\n",
       "rent          0.862823  2.369842\n",
       "ok            0.855957  2.353626\n",
       "position      0.830634  2.294773\n",
       "custody       0.820261  2.271094\n",
       "reach         0.813812  2.256493\n",
       "creator       0.799976  2.225488\n",
       "bank account  0.790765  2.205084\n",
       "stacking      0.782372  2.186653\n",
       "operator      0.778981  2.179251\n",
       "interest      0.778827  2.178914\n",
       "access        0.778042  2.177206\n",
       "application   0.767499  2.154372\n",
       "strike        0.766538  2.152302\n",
       "self custody  0.765285  2.149608\n",
       "awesome       0.765095  2.149198\n",
       "thank         0.764410  2.147727"
      ]
     },
     "execution_count": 87,
     "metadata": {},
     "output_type": "execute_result"
    }
   ],
   "source": [
    "lr = LogisticRegression(max_iter=2000,\n",
    "                        C = 1.0,\n",
    "                       )\n",
    "cvec =  CountVectorizer(stop_words= sw_spacy,\n",
    "                       max_df = 0.9,\n",
    "                       max_features = 3000,\n",
    "                       min_df = 3,\n",
    "                       ngram_range = (1,2))\n",
    "pipe = Pipeline([\n",
    "    ('cvec', cvec),\n",
    "    ('lr', lr)\n",
    "]) \n",
    "\n",
    "pipe.fit(X_train, y_train);\n",
    "lr_feat = pd.DataFrame(data=lr.coef_.T, index=cvec.get_feature_names())\n",
    "lr_feat.columns = ['coef_']\n",
    "lr_feat['abs_coef'] = np.exp(lr_feat['coef_'])\n",
    "lr_feat.sort_values(by='abs_coef', ascending=False).head(30)"
   ]
  },
  {
   "cell_type": "markdown",
   "id": "8a60ae44-a5fd-4ebd-8640-60bd08571823",
   "metadata": {},
   "source": [
    "##### The Confusion Matrix Plot"
   ]
  },
  {
   "cell_type": "code",
   "execution_count": 88,
   "id": "3f3467a0-305c-4add-bee7-24127a13e739",
   "metadata": {},
   "outputs": [],
   "source": [
    "# Get predictions\n",
    "preds6 = gs.predict(X_test)\n",
    "\n",
    "# Save confusion matrix values\n",
    "tn, fp, fn, tp = confusion_matrix(y_test, preds6).ravel()\n",
    "cm6 = confusion_matrix(y_test, preds6)"
   ]
  },
  {
   "cell_type": "code",
   "execution_count": 89,
   "id": "7f5f63c0-7540-46d9-bc9f-ba0deb3a29b6",
   "metadata": {},
   "outputs": [
    {
     "data": {
      "image/png": "[encoded data removed]",
      "text/plain": [
       "<Figure size 432x288 with 2 Axes>"
      ]
     },
     "metadata": {
      "needs_background": "light"
     },
     "output_type": "display_data"
    }
   ],
   "source": [
    "# View confusion matrix\n",
    "\n",
    "disp = ConfusionMatrixDisplay(cm6)\n",
    "disp.plot();"
   ]
  },
  {
   "cell_type": "code",
   "execution_count": 90,
   "id": "211500b5-06de-4b2b-8438-637f5b02e36e",
   "metadata": {},
   "outputs": [
    {
     "name": "stdout",
     "output_type": "stream",
     "text": [
      "True Negatives: 363\n",
      "False Positives: 139\n",
      "False Negatives: 88\n",
      "True Positives: 865\n"
     ]
    }
   ],
   "source": [
    "print(\"True Negatives: %s\" % tn)\n",
    "print(\"False Positives: %s\" % fp)\n",
    "print(\"False Negatives: %s\" % fn)\n",
    "print(\"True Positives: %s\" % tp)"
   ]
  },
  {
   "cell_type": "code",
   "execution_count": 91,
   "id": "fbf82878-4d50-4caf-a6b8-68686d6ba593",
   "metadata": {},
   "outputs": [
    {
     "name": "stdout",
     "output_type": "stream",
     "text": [
      "Accuracy: 0.844\n",
      "Misclassification rate: 0.156\n",
      "Precision: 0.8616\n",
      "Recall: 0.9077\n",
      "Specificity: 0.7231\n",
      "f1 score: 0.884\n"
     ]
    }
   ],
   "source": [
    "# Examine some classification metrics \n",
    "tn, fp, fn, tp = confusion_matrix(y_test, preds6).ravel()\n",
    "print('Accuracy: {}'.format(round((tp+tn)/(tp+fp+tn+fn),4)))\n",
    "print('Misclassification rate: {}'.format(round((fp+fn)/(tp+fp+tn+fn),4)))\n",
    "print('Precision: {}'.format(round(tp/(tp+fp),4)))\n",
    "print('Recall: {}'.format(round(tp/(tp+fn),4)))\n",
    "print('Specificity: {}'.format(round(tn/(tn+fp),4)))\n",
    "print('f1 score: {}' . format(round(f1_score(y_test, preds6),4)))"
   ]
  },
  {
   "cell_type": "markdown",
   "id": "8e27ea6f-ac17-4fc0-8098-eaf753319b6b",
   "metadata": {},
   "source": [
    "## Conclusion and Recommendations\n",
    "---\n",
    "|#| Vectorizer | Model | Best Score | Train Score | Test Score (Accuracy) | FN|\n",
    "|---|---|---|---|---|---|---|\n",
    "|1|CountVectorizer|Multinomial Naïve Bayes|0.7994|0.8392|0.8021|0.8398|\n",
    "|2|TfidfVectorizer|Multinomial Naïve Bayes|0.8296|0.8842|0.8296|0.9089|\n",
    "|3|CountVectorizer|Logistic Regression|0.8845|0.9973|0.877|0.9089|\n",
    "|4|TfidfVectorizer|Logistic Regression|0.8837|0.9838|0.8735|0.906|\n",
    "\n",
    "**Model Selection: Logistic Regression with CountVectorizer** as it has the best accuracy and f1 scoring\n",
    "\n",
    "All the models here outperformed the baseline accuracy score of 0.654. As the focus is on getting as many correct prediction as possible. The Logistic Regression with CountVectorizer has the best predictive performance on the classification problem. On top of that, it has a relatively low False Negative (Type II error) whereby we predicted that post to be cryptocurrency, but in fact, the post is relating to bitcoin. Hence, we would have to look at the Sensitivity (TP/(TP+FN)), the lower the FN, the higher the Sensitivity. Through the research, we were able to address some other problems such identifying many common words at appear in both post, and strong coefficent features. We could further apply it into the system a the first validation for system to pass thur as related posting for create a expectional listing that need further human intervention. \n",
    "\n",
    "Moving forward, we could potentially include more other relevant modelling such as random forest, Knn or decision tree to further analysis is there even better modelling for this dectection to minimise the need for human intervention. In addition, image posts were not taken into account, this could be tapped on given that our current generation usually prefers to post memes instead. Lastly, a more detailed study on the True Negative (TN) would also provide insights for us to see how can we use that to improve the predictions."
   ]
  }
 ],
 "metadata": {
  "kernelspec": {
   "display_name": "Python 3 (ipykernel)",
   "language": "python",
   "name": "python3"
  },
  "language_info": {
   "codemirror_mode": {
    "name": "ipython",
    "version": 3
   },
   "file_extension": ".py",
   "mimetype": "text/x-python",
   "name": "python",
   "nbconvert_exporter": "python",
   "pygments_lexer": "ipython3",
   "version": "3.9.7"
  },
  "toc-autonumbering": false,
  "toc-showmarkdowntxt": false,
  "toc-showtags": false
 },
 "nbformat": 4,
 "nbformat_minor": 5
}
